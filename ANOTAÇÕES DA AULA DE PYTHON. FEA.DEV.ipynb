{
 "cells": [
  {
   "cell_type": "markdown",
   "id": "fdf1252a",
   "metadata": {},
   "source": [
    "### markdown serve para deixar o código em formato de texto, como está abaixo\n"
   ]
  },
  {
   "cell_type": "code",
   "execution_count": null,
   "id": "fa9354af",
   "metadata": {},
   "outputs": [],
   "source": []
  },
  {
   "cell_type": "markdown",
   "id": "cc1cd1f2",
   "metadata": {},
   "source": [
    "# print serve para replicar o que foi escrito/rodar o código\n",
    "\n",
    "print (\"fala,dev,tudo bem?\")"
   ]
  },
  {
   "cell_type": "code",
   "execution_count": 36,
   "id": "c6e3931f",
   "metadata": {},
   "outputs": [
    {
     "name": "stdout",
     "output_type": "stream",
     "text": [
      "bem vindo a aula 2\n"
     ]
    }
   ],
   "source": [
    "## shift + enter cria outra celula após rodar essa \n",
    "\n",
    "print(\"bem vindo a aula 2\")\n"
   ]
  },
  {
   "cell_type": "code",
   "execution_count": 39,
   "id": "bd7c25ac",
   "metadata": {},
   "outputs": [
    {
     "ename": "SyntaxError",
     "evalue": "invalid syntax (1349424136.py, line 2)",
     "output_type": "error",
     "traceback": [
      "\u001b[1;36m  Cell \u001b[1;32mIn[39], line 2\u001b[1;36m\u001b[0m\n\u001b[1;33m    random.randint?   ## serve para descobrir o que é a função(nessa biblioteca)\u001b[0m\n\u001b[1;37m                  ^\u001b[0m\n\u001b[1;31mSyntaxError\u001b[0m\u001b[1;31m:\u001b[0m invalid syntax\n"
     ]
    }
   ],
   "source": [
    "import random\n",
    "random.randint?   ## serve para descobrir o que é a função(nessa biblioteca)\n"
   ]
  },
  {
   "cell_type": "code",
   "execution_count": 40,
   "id": "66260006",
   "metadata": {},
   "outputs": [],
   "source": [
    "## como fazer códigos com mudança deles,seguindo as intruções e mudança de códigos \n",
    "num=3"
   ]
  },
  {
   "cell_type": "code",
   "execution_count": 31,
   "id": "90de0bfa",
   "metadata": {},
   "outputs": [],
   "source": [
    "num=num+2"
   ]
  },
  {
   "cell_type": "code",
   "execution_count": 32,
   "id": "4aef149a",
   "metadata": {},
   "outputs": [],
   "source": [
    "num=num*3"
   ]
  },
  {
   "cell_type": "code",
   "execution_count": 33,
   "id": "4a6ca32d",
   "metadata": {},
   "outputs": [
    {
     "name": "stdout",
     "output_type": "stream",
     "text": [
      "15\n"
     ]
    }
   ],
   "source": [
    "print(num)"
   ]
  },
  {
   "cell_type": "markdown",
   "id": "28804028",
   "metadata": {},
   "source": [
    "## difernaça de vss code x jupyter nootebook: vs code serve para desenvolvimento de aplicativos e suas vantagem é que podem ser baixadas várias extenções, já jupyter nootebook serve mais para dados e análise deles..."
   ]
  },
  {
   "cell_type": "markdown",
   "id": "da7ec924",
   "metadata": {},
   "source": [
    "## soma, subtração, divisão e multiplicação em python "
   ]
  },
  {
   "cell_type": "code",
   "execution_count": 10,
   "id": "b8c05ee2",
   "metadata": {},
   "outputs": [
    {
     "data": {
      "text/plain": [
       "9"
      ]
     },
     "execution_count": 10,
     "metadata": {},
     "output_type": "execute_result"
    }
   ],
   "source": [
    "\n",
    "4 + 5"
   ]
  },
  {
   "cell_type": "code",
   "execution_count": 11,
   "id": "f5fa8043",
   "metadata": {},
   "outputs": [
    {
     "data": {
      "text/plain": [
       "16"
      ]
     },
     "execution_count": 11,
     "metadata": {},
     "output_type": "execute_result"
    }
   ],
   "source": [
    "8*2"
   ]
  },
  {
   "cell_type": "code",
   "execution_count": 13,
   "id": "6dd5fd1a",
   "metadata": {},
   "outputs": [
    {
     "data": {
      "text/plain": [
       "-1"
      ]
     },
     "execution_count": 13,
     "metadata": {},
     "output_type": "execute_result"
    }
   ],
   "source": [
    "4-5"
   ]
  },
  {
   "cell_type": "code",
   "execution_count": 15,
   "id": "155f8e9a",
   "metadata": {},
   "outputs": [
    {
     "data": {
      "text/plain": [
       "4.0"
      ]
     },
     "execution_count": 15,
     "metadata": {},
     "output_type": "execute_result"
    }
   ],
   "source": [
    "8/2"
   ]
  },
  {
   "cell_type": "code",
   "execution_count": 18,
   "id": "afe0086a",
   "metadata": {},
   "outputs": [
    {
     "data": {
      "text/plain": [
       "16"
      ]
     },
     "execution_count": 18,
     "metadata": {},
     "output_type": "execute_result"
    }
   ],
   "source": [
    "4**2"
   ]
  },
  {
   "cell_type": "code",
   "execution_count": 19,
   "id": "e425cedb",
   "metadata": {},
   "outputs": [
    {
     "data": {
      "text/plain": [
       "3"
      ]
     },
     "execution_count": 19,
     "metadata": {},
     "output_type": "execute_result"
    }
   ],
   "source": [
    "#divisão inteira=quantas vezes um numero cabe no outro \n",
    "20//6"
   ]
  },
  {
   "cell_type": "code",
   "execution_count": 21,
   "id": "d8cd94ef",
   "metadata": {},
   "outputs": [
    {
     "data": {
      "text/plain": [
       "2"
      ]
     },
     "execution_count": 21,
     "metadata": {},
     "output_type": "execute_result"
    }
   ],
   "source": [
    "# resto=qunatos sobra dempois da divisão inteira \n",
    "20%6"
   ]
  },
  {
   "cell_type": "markdown",
   "id": "595fd5b3",
   "metadata": {},
   "source": [
    "# ordem das operações: parenteses(), exponencial**, multiplicação* e divisão /, soma + e subtração -  "
   ]
  },
  {
   "cell_type": "code",
   "execution_count": 23,
   "id": "5c9bcc2a",
   "metadata": {},
   "outputs": [
    {
     "data": {
      "text/plain": [
       "58"
      ]
     },
     "execution_count": 23,
     "metadata": {},
     "output_type": "execute_result"
    }
   ],
   "source": [
    "(7*8)+4-2"
   ]
  },
  {
   "cell_type": "code",
   "execution_count": 25,
   "id": "24d003a1",
   "metadata": {},
   "outputs": [
    {
     "data": {
      "text/plain": [
       "18"
      ]
     },
     "execution_count": 25,
     "metadata": {},
     "output_type": "execute_result"
    }
   ],
   "source": [
    "4*2+2+2+2+3+6-5"
   ]
  },
  {
   "cell_type": "code",
   "execution_count": 27,
   "id": "5e37b149",
   "metadata": {},
   "outputs": [
    {
     "data": {
      "text/plain": [
       "2"
      ]
     },
     "execution_count": 27,
     "metadata": {},
     "output_type": "execute_result"
    }
   ],
   "source": [
    "8+9-9+8-9+7-9+6-9"
   ]
  },
  {
   "cell_type": "code",
   "execution_count": 29,
   "id": "c20d739c",
   "metadata": {},
   "outputs": [
    {
     "data": {
      "text/plain": [
       "14.0"
      ]
     },
     "execution_count": 29,
     "metadata": {},
     "output_type": "execute_result"
    }
   ],
   "source": [
    "8/2+5+8-3"
   ]
  },
  {
   "cell_type": "markdown",
   "id": "9c38b63f",
   "metadata": {},
   "source": [
    "# operadores comparativos : maior >, menor <, maior ou igual >=, menor ou igual <=, igual ==, não igual!=."
   ]
  },
  {
   "cell_type": "code",
   "execution_count": 30,
   "id": "4bac282e",
   "metadata": {},
   "outputs": [
    {
     "data": {
      "text/plain": [
       "False"
      ]
     },
     "execution_count": 30,
     "metadata": {},
     "output_type": "execute_result"
    }
   ],
   "source": [
    "6==5"
   ]
  },
  {
   "cell_type": "code",
   "execution_count": 31,
   "id": "88bdb78b",
   "metadata": {},
   "outputs": [
    {
     "data": {
      "text/plain": [
       "True"
      ]
     },
     "execution_count": 31,
     "metadata": {},
     "output_type": "execute_result"
    }
   ],
   "source": [
    "6>4"
   ]
  },
  {
   "cell_type": "code",
   "execution_count": 32,
   "id": "2ab0e47d",
   "metadata": {},
   "outputs": [
    {
     "data": {
      "text/plain": [
       "False"
      ]
     },
     "execution_count": 32,
     "metadata": {},
     "output_type": "execute_result"
    }
   ],
   "source": [
    "8>=9"
   ]
  },
  {
   "cell_type": "code",
   "execution_count": 33,
   "id": "e2f9ff95",
   "metadata": {},
   "outputs": [
    {
     "data": {
      "text/plain": [
       "True"
      ]
     },
     "execution_count": 33,
     "metadata": {},
     "output_type": "execute_result"
    }
   ],
   "source": [
    "9>=8"
   ]
  },
  {
   "cell_type": "markdown",
   "id": "7bd4e454",
   "metadata": {},
   "source": [
    "# variáveis "
   ]
  },
  {
   "cell_type": "code",
   "execution_count": 38,
   "id": "281390d8",
   "metadata": {},
   "outputs": [],
   "source": [
    "# paratribuir valores as variaveis, utiliza-se = \n",
    "x = 7\n",
    "n = 4\n",
    "u = 8\n"
   ]
  },
  {
   "cell_type": "code",
   "execution_count": 40,
   "id": "c64f6352",
   "metadata": {},
   "outputs": [
    {
     "data": {
      "text/plain": [
       "7"
      ]
     },
     "execution_count": 40,
     "metadata": {},
     "output_type": "execute_result"
    }
   ],
   "source": [
    "x"
   ]
  },
  {
   "cell_type": "code",
   "execution_count": 41,
   "id": "cdabc859",
   "metadata": {},
   "outputs": [
    {
     "data": {
      "text/plain": [
       "4"
      ]
     },
     "execution_count": 41,
     "metadata": {},
     "output_type": "execute_result"
    }
   ],
   "source": [
    "n"
   ]
  },
  {
   "cell_type": "code",
   "execution_count": 42,
   "id": "f136df47",
   "metadata": {},
   "outputs": [
    {
     "data": {
      "text/plain": [
       "8"
      ]
     },
     "execution_count": 42,
     "metadata": {},
     "output_type": "execute_result"
    }
   ],
   "source": [
    "u"
   ]
  },
  {
   "cell_type": "code",
   "execution_count": 43,
   "id": "8b2cc5a2",
   "metadata": {},
   "outputs": [
    {
     "name": "stdout",
     "output_type": "stream",
     "text": [
      "11\n",
      "12\n",
      "15\n"
     ]
    }
   ],
   "source": [
    "#print serve para exibir na tela\n",
    "print(x+n)\n",
    "print(n+u)\n",
    "print(u+x)"
   ]
  },
  {
   "cell_type": "code",
   "execution_count": 44,
   "id": "d6778acd",
   "metadata": {},
   "outputs": [],
   "source": [
    "# regras para váriaveis: não pode começar com um número mas podem conter desde de que não comecem com eles(num2), podem ser apenas tesxto(texto), mas pdoem começar com __\n",
    "#ex:\n",
    "nome=8"
   ]
  },
  {
   "cell_type": "code",
   "execution_count": 47,
   "id": "e268c7ae",
   "metadata": {},
   "outputs": [
    {
     "data": {
      "text/plain": [
       "8"
      ]
     },
     "execution_count": 47,
     "metadata": {},
     "output_type": "execute_result"
    }
   ],
   "source": [
    "nome"
   ]
  },
  {
   "cell_type": "code",
   "execution_count": 52,
   "id": "5f27e79d",
   "metadata": {},
   "outputs": [],
   "source": [
    "#variáveis em texto(string= são marcadas com \"\" (dupla) ou simples (''). podemos usar o print direito ou o nome que atribuimos a ela :\n"
   ]
  },
  {
   "cell_type": "code",
   "execution_count": 53,
   "id": "db762273",
   "metadata": {},
   "outputs": [
    {
     "name": "stdout",
     "output_type": "stream",
     "text": [
      "hello,dev, tudo bem com voçes?\n"
     ]
    }
   ],
   "source": [
    "print('hello,dev, tudo bem com voçes?')"
   ]
  },
  {
   "cell_type": "code",
   "execution_count": 69,
   "id": "857d3086",
   "metadata": {},
   "outputs": [],
   "source": [
    "string = \"bom dia, meus amores\"\n"
   ]
  },
  {
   "cell_type": "code",
   "execution_count": 72,
   "id": "8d0dd543",
   "metadata": {},
   "outputs": [],
   "source": [
    "print=string\n"
   ]
  },
  {
   "cell_type": "code",
   "execution_count": 73,
   "id": "b0ec5481",
   "metadata": {},
   "outputs": [],
   "source": [
    "string2=\"\"\"então, já é alguma coisa se não vai ficar sozinho os 4 dias seguidos\"\"\""
   ]
  },
  {
   "cell_type": "code",
   "execution_count": 88,
   "id": "0849b386",
   "metadata": {},
   "outputs": [],
   "source": [
    "print=(string2)\n"
   ]
  },
  {
   "cell_type": "code",
   "execution_count": 91,
   "id": "c5a519d5",
   "metadata": {},
   "outputs": [
    {
     "data": {
      "text/plain": [
       "15"
      ]
     },
     "execution_count": 91,
     "metadata": {},
     "output_type": "execute_result"
    }
   ],
   "source": [
    "x = 7\n",
    "n = 8\n",
    "x + n\n",
    "\n"
   ]
  },
  {
   "cell_type": "code",
   "execution_count": 119,
   "id": "996702fe",
   "metadata": {},
   "outputs": [
    {
     "ename": "TypeError",
     "evalue": "'str' object is not callable",
     "output_type": "error",
     "traceback": [
      "\u001b[1;31m---------------------------------------------------------------------------\u001b[0m",
      "\u001b[1;31mTypeError\u001b[0m                                 Traceback (most recent call last)",
      "Cell \u001b[1;32mIn[119], line 3\u001b[0m\n\u001b[0;32m      1\u001b[0m x \u001b[38;5;241m=\u001b[39m \u001b[38;5;124m\"\u001b[39m\u001b[38;5;124mbom dia\u001b[39m\u001b[38;5;124m\"\u001b[39m\n\u001b[0;32m      2\u001b[0m y \u001b[38;5;241m=\u001b[39m \u001b[38;5;124m\"\u001b[39m\u001b[38;5;124mboa tarde\u001b[39m\u001b[38;5;124m\"\u001b[39m\n\u001b[1;32m----> 3\u001b[0m \u001b[38;5;28mprint\u001b[39m(x \u001b[38;5;241m+\u001b[39m y)\n",
      "\u001b[1;31mTypeError\u001b[0m: 'str' object is not callable"
     ]
    }
   ],
   "source": [
    "x = \"bom dia\"\n",
    "y = \"boa tarde\"\n",
    "print(x + y)"
   ]
  },
  {
   "cell_type": "code",
   "execution_count": 97,
   "id": "9e483977",
   "metadata": {},
   "outputs": [
    {
     "data": {
      "text/plain": [
       "18"
      ]
     },
     "execution_count": 97,
     "metadata": {},
     "output_type": "execute_result"
    }
   ],
   "source": [
    "8 + 10"
   ]
  },
  {
   "cell_type": "code",
   "execution_count": 112,
   "id": "f316a702",
   "metadata": {},
   "outputs": [
    {
     "data": {
      "text/plain": [
       "'v'"
      ]
     },
     "execution_count": 112,
     "metadata": {},
     "output_type": "execute_result"
    }
   ],
   "source": [
    "# buscar caracterizes dentro de um banco de dados\n",
    "string = \"bem vindos ao curso de python\"\n",
    "string[4]\n",
    "\n",
    "\n"
   ]
  },
  {
   "cell_type": "code",
   "execution_count": 120,
   "id": "9431bc32",
   "metadata": {},
   "outputs": [
    {
     "data": {
      "text/plain": [
       "' vin'"
      ]
     },
     "execution_count": 120,
     "metadata": {},
     "output_type": "execute_result"
    }
   ],
   "source": [
    "#buscar uma lista de caracterizes \n",
    "string[3:7]"
   ]
  },
  {
   "cell_type": "markdown",
   "id": "ef3aa6c4",
   "metadata": {},
   "source": [
    "# metodos de string(texto) em letras maiuscula"
   ]
  },
  {
   "cell_type": "code",
   "execution_count": 122,
   "id": "2311910c",
   "metadata": {},
   "outputs": [
    {
     "data": {
      "text/plain": [
       "'EXEMPLO'"
      ]
     },
     "execution_count": 122,
     "metadata": {},
     "output_type": "execute_result"
    }
   ],
   "source": [
    "#upper: deixar as letras todas maíscula \n",
    "exemplo = 'exemplo'\n",
    "exemplo.upper()"
   ]
  },
  {
   "cell_type": "code",
   "execution_count": 125,
   "id": "d3c30115",
   "metadata": {},
   "outputs": [
    {
     "data": {
      "text/plain": [
       "'exemplo'"
      ]
     },
     "execution_count": 125,
     "metadata": {},
     "output_type": "execute_result"
    }
   ],
   "source": [
    "#deixa tudo minuscula dessa vez\n",
    "exemplo = 'exemplo'\n",
    "exemplo.lower()"
   ]
  },
  {
   "cell_type": "code",
   "execution_count": 127,
   "id": "406e3659",
   "metadata": {},
   "outputs": [
    {
     "data": {
      "text/plain": [
       "'tava'"
      ]
     },
     "execution_count": 127,
     "metadata": {},
     "output_type": "execute_result"
    }
   ],
   "source": [
    "#tira os expaços existentes na variável\n",
    "exemplo = '         tava'\n",
    "exemplo.strip()"
   ]
  },
  {
   "cell_type": "code",
   "execution_count": 131,
   "id": "aa6306a3",
   "metadata": {},
   "outputs": [
    {
     "data": {
      "text/plain": [
       "'programas é muito bom'"
      ]
     },
     "execution_count": 131,
     "metadata": {},
     "output_type": "execute_result"
    }
   ],
   "source": [
    "# mudar a viriavel: replace\n",
    "exemplo2 = \"programas é muito chato\"\n",
    "exemplo2.replace('chato','bom')"
   ]
  },
  {
   "cell_type": "markdown",
   "id": "827ed6a7",
   "metadata": {},
   "source": [
    "# input e output \n",
    "### serve para solicitar informações ao usuários e autput serve para  "
   ]
  },
  {
   "cell_type": "code",
   "execution_count": null,
   "id": "2d535ad3",
   "metadata": {},
   "outputs": [],
   "source": [
    "## colocar informações para usuário\n",
    "input( \" como voçe está?\")\n"
   ]
  },
  {
   "cell_type": "code",
   "execution_count": null,
   "id": "e0dd087e",
   "metadata": {},
   "outputs": [],
   "source": [
    "#output, mesma coisa que o print\n",
    "print(\"parabéns por ter chegado até aqui\")"
   ]
  },
  {
   "cell_type": "code",
   "execution_count": null,
   "id": "6eee594f",
   "metadata": {},
   "outputs": [],
   "source": [
    "#ex:\n",
    "idade=input(\"quantos anos voçe tem?\")"
   ]
  },
  {
   "cell_type": "code",
   "execution_count": null,
   "id": "9fed8119",
   "metadata": {},
   "outputs": [],
   "source": []
  },
  {
   "cell_type": "code",
   "execution_count": null,
   "id": "0a98f906",
   "metadata": {},
   "outputs": [],
   "source": []
  },
  {
   "cell_type": "code",
   "execution_count": null,
   "id": "d24daa79",
   "metadata": {},
   "outputs": [],
   "source": []
  },
  {
   "cell_type": "code",
   "execution_count": null,
   "id": "1ac9e010",
   "metadata": {},
   "outputs": [],
   "source": [
    "idade=input(\"quantos anos vc tem?\")"
   ]
  },
  {
   "cell_type": "code",
   "execution_count": null,
   "id": "be745852",
   "metadata": {},
   "outputs": [],
   "source": []
  }
 ],
 "metadata": {
  "kernelspec": {
   "display_name": "Python 3 (ipykernel)",
   "language": "python",
   "name": "python3"
  },
  "language_info": {
   "codemirror_mode": {
    "name": "ipython",
    "version": 3
   },
   "file_extension": ".py",
   "mimetype": "text/x-python",
   "name": "python",
   "nbconvert_exporter": "python",
   "pygments_lexer": "ipython3",
   "version": "3.11.5"
  }
 },
 "nbformat": 4,
 "nbformat_minor": 5
}
